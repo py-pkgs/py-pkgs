{
 "cells": [
  {
   "cell_type": "markdown",
   "metadata": {},
   "source": [
    "(01:Introduction)=\n",
    "# Introduction\n",
    "<hr style=\"height:1px;border:none;color:#666;background-color:#666;\" />"
   ]
  },
  {
   "cell_type": "markdown",
   "metadata": {},
   "source": [
    "Python packages are a core element of the Python programming language and are how you write reusable and shareable code in Python. This book assumes that readers are familiar with how to install a package using a package installer like `pip`\\index{pip} or `conda`\\index{conda}, and how to import\\index{import} and use it with the help of the `import` statement in Python.\n",
    "\n",
    "For example, the command below uses `pip` to install `numpy`{cite:p}`harris2020array`, the core scientific computing package for Python:"
   ]
  },
  {
   "cell_type": "markdown",
   "metadata": {},
   "source": [
    "```{prompt} bash \\$ auto\n",
    "$ pip install numpy\n",
    "```"
   ]
  },
  {
   "cell_type": "markdown",
   "metadata": {},
   "source": [
    "Once the package is installed, it can be used in a Python interpreter. For example, to round pi to three decimal places:"
   ]
  },
  {
   "cell_type": "markdown",
   "metadata": {},
   "source": [
    "```{prompt} bash \\$ auto\n",
    "$ python\n",
    "```\n",
    "\n",
    "```{prompt} python >>> auto\n",
    ">>> import numpy as np\n",
    ">>> np.round(np.pi, decimals=3)\n",
    "```\n",
    "\n",
    "```python\n",
    "3.142\n",
    "```"
   ]
  },
  {
   "cell_type": "markdown",
   "metadata": {},
   "source": [
    "At a minimum, a package bundles together code (such as functions, classes, variables, or scripts) so that it can be easily reused across different projects. However, packages are typically also supported by extra content such as documentation and tests, which become exponentially more important if you wish to share your package with others.\n",
    "\n",
    "As of January 2022, there are over 350,000 packages available on the [Python Package Index (PyPI\\index{PyPI})](https://pypi.org), the official online software repository for Python. Packages are a key reason why Python is such a powerful and widely used programming language. The chances are that someone has already solved a problem that you're working on, and you can benefit from their work by downloading and installing their package. Put simply, packages are how you make it as easy as possible to use, maintain, share, and collaborate on Python code with others, whether they be your friends, work colleagues, the world, or your future self!\n",
    "\n",
    "Even if you never intend to share your code with others, making packages will ultimately save you time. Packages make it significantly easier for you to reuse and maintain your code within a project and across different projects. After programming for some time, most people will eventually reach a point where they want to reuse code from one project in another. For beginners, in particular, this is something often accomplished by copying-and-pasting existing code into the new project. Despite being inefficient, this practice also makes it difficult to improve and maintain your code across projects. Creating a simple Python package will solve these problems.\n",
    "\n",
    "Regardless of your motivation, the goal of this book is to show you how to easily develop Python packages. The focus is overwhelmingly practical — we will leverage modern methods and tools to develop and maintain packages efficiently, reproducibly, and with as much automation as possible, so you can focus on writing and sharing code. Along the way, we'll also enlighten some interesting and relevant lower-level details of Python packaging and the Python programming language."
   ]
  },
  {
   "cell_type": "markdown",
   "metadata": {},
   "source": [
    "## Why you should create packages"
   ]
  },
  {
   "cell_type": "markdown",
   "metadata": {},
   "source": [
    "There are many reasons why you should develop Python packages!\n",
    "\n",
    "- To effectively share your code with others.\n",
    "- They save you time. Even if you don't intend to share your package with others, they help you easily reuse and maintain your code across multiple projects.\n",
    "- They force you to organize and document your code, such that it can be easily understood and used at a later time.\n",
    "- They isolate dependencies for your code and improve its reproducibility.\n",
    "- They are a good way to practice writing good code.\n",
    "- Packages can be used to effectively bundle up reproducible data analysis and programming projects.\n",
    "- Finally, developing and distributing packages supports the Python ecosystem and other Python users who can benefit from your work."
   ]
  }
 ],
 "metadata": {
  "kernelspec": {
   "display_name": "Python 3 (ipykernel)",
   "language": "python",
   "name": "python3"
  },
  "language_info": {
   "codemirror_mode": {
    "name": "ipython",
    "version": 3
   },
   "file_extension": ".py",
   "mimetype": "text/x-python",
   "name": "python",
   "nbconvert_exporter": "python",
   "pygments_lexer": "ipython3",
   "version": "3.9.10"
  },
  "toc-autonumbering": false
 },
 "nbformat": 4,
 "nbformat_minor": 4
}
